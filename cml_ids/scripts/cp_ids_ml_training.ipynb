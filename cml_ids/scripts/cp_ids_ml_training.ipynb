{
 "cells": [
  {
   "cell_type": "code",
   "execution_count": null,
   "metadata": {},
   "outputs": [],
   "source": [
    "import sys\n",
    "sys.path.append(\"..\")\n",
    "\n",
    "import pandas as pd\n",
    "import numpy as np\n",
    "import sys\n",
    "\n",
    "from utils.dataset_processing.dataset_processing import DatasetPreprocess\n",
    "from utils.ml_model_training.cp_ids_ml_builder import CPIDSBuilder"
   ]
  },
  {
   "cell_type": "code",
   "execution_count": null,
   "metadata": {},
   "outputs": [],
   "source": [
    "######################### Setup Pathes, Parameters, Objects #########################\n",
    "#####################################################################################\n",
    "\n",
    "############################### Setup Pathes ###############################\n",
    "dataset_path = \"../../dataset/flow_preprocessed_datasets/flow_preprocessed_merged_8.csv\"\n",
    "\n",
    "# CP-IDS saving base path\n",
    "cp_ids_model_save_base_path = \"../ml_models/cp_ids_models/\"\n",
    "# pathes for NN model\n",
    "nn_dir = cp_ids_model_save_base_path + \"nn_model/\"\n",
    "nn_figure_save_dir = nn_dir + \"/figs/\"\n",
    "nn_check_point_save_path = nn_dir + \"nn_checkpoints.h5\"\n",
    "# pathes for RF and XGB\n",
    "rf_path = cp_ids_model_save_base_path + \"rf_cp_ids_model.pkl\"\n",
    "xgb_path = cp_ids_model_save_base_path + \"xgb_model.json\"\n",
    "\n",
    "\n",
    "############################### Setup Builder ###############################\n",
    "dataProc = DatasetPreprocess()\n",
    "cpids_builder = CPIDSBuilder()\n",
    "X_train, X_test, y_train, y_test, X_val, y_val = dataProc.split_dataset(dataset_path)"
   ]
  },
  {
   "cell_type": "code",
   "execution_count": null,
   "metadata": {},
   "outputs": [],
   "source": [
    "########################### Train NN, RF, XGB classifiers ###########################\n",
    "#####################################################################################\n",
    "\n",
    "model_nn, model_rf, model_xgb = cpids_builder.train_all(X_train, y_train, X_val, y_val,\n",
    "                                                        check_point_path=nn_check_point_save_path,\n",
    "                                                        fig_save_path=nn_figure_save_dir,\n",
    "                                                        save_models=True,\n",
    "                                                        nn_dir=nn_dir, rf_path=rf_path, xgb_path=xgb_path)\n"
   ]
  },
  {
   "cell_type": "code",
   "execution_count": null,
   "metadata": {},
   "outputs": [],
   "source": [
    "############################## Test trained classifiers #############################\n",
    "#####################################################################################\n",
    "weights = [1.9,2.5,1]\n",
    "cpids_builder.test(X_test, y_test, model_nn, model_rf, model_xgb, weights)"
   ]
  }
 ],
 "metadata": {
  "kernelspec": {
   "display_name": "Python 3",
   "language": "python",
   "name": "python3"
  },
  "language_info": {
   "codemirror_mode": {
    "name": "ipython",
    "version": 3
   },
   "file_extension": ".py",
   "mimetype": "text/x-python",
   "name": "python",
   "nbconvert_exporter": "python",
   "pygments_lexer": "ipython3",
   "version": "3.8.10"
  },
  "orig_nbformat": 4
 },
 "nbformat": 4,
 "nbformat_minor": 2
}
