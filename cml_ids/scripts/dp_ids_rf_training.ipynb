{
 "cells": [
  {
   "cell_type": "code",
   "execution_count": 1,
   "metadata": {},
   "outputs": [],
   "source": [
    "import sys\n",
    "sys.path.append(\"..\")\n",
    "\n",
    "import pandas as pd\n",
    "import numpy as np\n",
    "import sys\n",
    "from sklearn.ensemble import RandomForestClassifier\n",
    "from sklearn.metrics import classification_report, plot_confusion_matrix\n",
    "\n",
    "from utils.dataset_processing.dataset_processing import DatasetPreprocess\n",
    "from utils.ml_model_training.dp_ids_ml_builder import DPIDSBuilder"
   ]
  },
  {
   "cell_type": "code",
   "execution_count": null,
   "metadata": {},
   "outputs": [],
   "source": [
    "######################### Setup Pathes, Parameters, Objects #########################\n",
    "#####################################################################################\n",
    "\n",
    "############################### Setup Pathes ###############################\n",
    "dataset_path = \"../../dataset/flow_preprocessed_datasets/merged_datasets/flow_preprocessed_merged_8_balanced_feature_num_20.csv\"\n",
    "\n",
    "# dP-IDS saving base path\n",
    "dp_ids_model_save_base_path = \"../ml_models/dp_ids_models/\"\n",
    "# pathe for RF\n",
    "rf_path = dp_ids_model_save_base_path + \"rf_dp_ids_model.pkl\"\n",
    "# path for CV\n",
    "cv_dir = dp_ids_model_save_base_path + \"/cv_history/\"\n",
    "# path for saving figures of trees\n",
    "plot_save_path = dp_ids_model_save_base_path + \"/trees_plot/\"\n",
    "\n",
    "############################### Setup Builder ###############################\n",
    "dataProc = DatasetPreprocess()\n",
    "dp_ids_builder = DPIDSBuilder()\n",
    "X_train, X_test, y_train, y_test, X_val, y_val = dataProc.split_dataset(dataset_path)"
   ]
  },
  {
   "cell_type": "code",
   "execution_count": null,
   "metadata": {},
   "outputs": [],
   "source": [
    "######################## Search for the best hyperparameters ########################\n",
    "#####################################################################################\n",
    "cv_params = {\n",
    "    \"n_estimators\": [3],\n",
    "    \"max_depth\": range(1, 11)\n",
    "}\n",
    "\n",
    "cv_results_path = dp_ids_builder.get_best_estimator(cv_results_dir=cv_dir, params=cv_params, X_train=X_train, y_train=y_train)\n",
    "\n",
    "cv_fig_name = \"f1_max_depth.png\"\n",
    "dp_ids_builder.plot_cv_results(cv_results_path=cv_results_path, params=cv_params, fig_name=cv_fig_name)"
   ]
  },
  {
   "cell_type": "code",
   "execution_count": 4,
   "metadata": {},
   "outputs": [],
   "source": [
    "############################## Build the RF for DP-IDS ##############################\n",
    "#####################################################################################\n",
    "dp_ids_builder.train_rf(rf_serialization_path=rf_path, n_estimators=3, max_depth=5, X_train=X_train, y_train=y_train)"
   ]
  },
  {
   "cell_type": "code",
   "execution_count": null,
   "metadata": {},
   "outputs": [],
   "source": [
    "########################## Plot and save the RF for DP-IDS ##########################\n",
    "#####################################################################################\n",
    "# get the features used for training this rf\n",
    "df = pd.read_csv(dataset_path)\n",
    "feature_list = list(df.columns[:-1])\n",
    "\n",
    "dp_ids_builder.plot_trees(save_path=plot_save_path, rf_serialization_path=rf_path, features=feature_list)"
   ]
  },
  {
   "cell_type": "code",
   "execution_count": null,
   "metadata": {},
   "outputs": [],
   "source": [
    "######################### Test the trained RF (test dataset) ########################\n",
    "#####################################################################################\n",
    "\n",
    "rf = dp_ids_builder.load_rf(rf_path)\n",
    "\n",
    "y_predict = rf.predict(X_test)\n",
    "print(classification_report(y_test, y_predict))\n",
    "plot_confusion_matrix(rf, X_test, y_test, display_labels=[\"Benign\", \"Attack\"])"
   ]
  }
 ],
 "metadata": {
  "kernelspec": {
   "display_name": "Python 3",
   "language": "python",
   "name": "python3"
  },
  "language_info": {
   "codemirror_mode": {
    "name": "ipython",
    "version": 3
   },
   "file_extension": ".py",
   "mimetype": "text/x-python",
   "name": "python",
   "nbconvert_exporter": "python",
   "pygments_lexer": "ipython3",
   "version": "3.8.10"
  },
  "orig_nbformat": 4
 },
 "nbformat": 4,
 "nbformat_minor": 2
}
