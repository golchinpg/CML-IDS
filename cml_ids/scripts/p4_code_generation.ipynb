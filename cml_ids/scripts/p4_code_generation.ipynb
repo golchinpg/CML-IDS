{
 "cells": [
  {
   "cell_type": "code",
   "execution_count": 8,
   "metadata": {},
   "outputs": [],
   "source": [
    "import sys\n",
    "sys.path.append(\"..\")\n",
    "\n",
    "import pandas as pd\n",
    "\n",
    "from utils.dp_control.p4_code_generator import P4CodeGenerator"
   ]
  },
  {
   "cell_type": "code",
   "execution_count": null,
   "metadata": {},
   "outputs": [],
   "source": [
    "######################### Setup Pathes, Parameters, Objects #########################\n",
    "#####################################################################################\n",
    "\n",
    "################################# Setup Parameters ##################################\n",
    "rf_max_depth = 3\n",
    "feature_num = 20\n",
    "\n",
    "################################### Setup Pathes ####################################\n",
    "p4_code_base_path = \"../p4/p4_code_snippets/\"\n",
    "features_ids_path = \"../base_files/features_with_id.csv\"\n",
    "used_features_path = \"../base_files/used_features.csv\"\n",
    "\n",
    "# rf_path = f\"../ml_models_balanced/dp_ids_models/rf_dp_ids_model_balanced_depth_{rf_max_depth}_feature_num_{feature_num}.pkl\"\n",
    "rf_path = \"../ml_models/dp_ids_models/rf_dp_ids_model.pkl\"\n",
    "\n",
    "# get the relevant features\n",
    "feature_importance_path = \"../base_files/feature_importances.csv\"\n",
    "df = pd.read_csv(feature_importance_path, index_col=0)\n",
    "relevant_features = df.index[:feature_num]\n",
    "\n",
    "################################ Initialize Objects #################################\n",
    "p4_code_gen = P4CodeGenerator(rf_path=rf_path, features_path=used_features_path,\n",
    "                              p4_base_path=p4_code_base_path, features_ids_path=features_ids_path, relevant_features=relevant_features)\n"
   ]
  },
  {
   "cell_type": "code",
   "execution_count": null,
   "metadata": {},
   "outputs": [],
   "source": [
    "################################# Genearte P4 Codes #################################\n",
    "#####################################################################################\n",
    "\n",
    "p4_code_gen.generate_struct_to_bitstring_action()\n",
    "p4_code_gen.generate_bitstring_to_struct_action()\n",
    "p4_code_gen.generate_compare_feature_action()\n",
    "p4_code_gen.generate_mathch_action_tables()\n",
    "p4_code_gen.generate_classfication_logic()\n",
    "p4_code_gen.generate_p4_rules()"
   ]
  }
 ],
 "metadata": {
  "kernelspec": {
   "display_name": "Python 3",
   "language": "python",
   "name": "python3"
  },
  "language_info": {
   "codemirror_mode": {
    "name": "ipython",
    "version": 3
   },
   "file_extension": ".py",
   "mimetype": "text/x-python",
   "name": "python",
   "nbconvert_exporter": "python",
   "pygments_lexer": "ipython3",
   "version": "3.8.10"
  },
  "orig_nbformat": 4
 },
 "nbformat": 4,
 "nbformat_minor": 2
}
