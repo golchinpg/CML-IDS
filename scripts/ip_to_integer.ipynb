{
 "cells": [
  {
   "cell_type": "code",
   "execution_count": 13,
   "metadata": {},
   "outputs": [
    {
     "name": "stdout",
     "output_type": "stream",
     "text": [
      "id_192_168_10_12   = 3232238092\n",
      "id_192_168_10_8   = 3232238088\n",
      "id_205_174_165_73   = 3450774857\n",
      "id_172_16_0_1   = 2886729729\n",
      "id_192_168_10_14   = 3232238094\n",
      "id_52_6_13_28   = 872811804\n",
      "id_192_168_10_15   = 3232238095\n",
      "id_192_168_10_9   = 3232238089\n",
      "id_192_168_10_17   = 3232238097\n",
      "id_192_168_10_50   = 3232238130\n",
      "id_192_168_10_5   = 3232238085\n",
      "id_52_7_235_158   = 872934302\n"
     ]
    }
   ],
   "source": [
    "import ipaddress\n",
    "\n",
    "ip_set = set(['192.168.10.12', '52.6.13.28',\n",
    "            '192.168.10.50', '172.16.0.1',\n",
    "            '172.16.0.1', '192.168.10.50',\n",
    "            '192.168.10.17', '52.7.235.158',\n",
    "            '192.168.10.8', '205.174.165.73',\n",
    "            '192.168.10.5', '205.174.165.73',\n",
    "            '192.168.10.14', '205.174.165.73',\n",
    "            '192.168.10.9', '205.174.165.73',\n",
    "            '205.174.165.73', '192.168.10.8',\n",
    "            '192.168.10.15', '205.174.165.73'])\n",
    "\n",
    "for ip_addr in ip_set:\n",
    "    tmp_str = \"id_\" + ip_addr + '   = ' + str(int(ipaddress.IPv4Address(ip_addr)))\n",
    "    tmp_str = tmp_str.replace('.', '_')\n",
    "    print(tmp_str)"
   ]
  }
 ],
 "metadata": {
  "kernelspec": {
   "display_name": "Python 3",
   "language": "python",
   "name": "python3"
  },
  "language_info": {
   "codemirror_mode": {
    "name": "ipython",
    "version": 3
   },
   "file_extension": ".py",
   "mimetype": "text/x-python",
   "name": "python",
   "nbconvert_exporter": "python",
   "pygments_lexer": "ipython3",
   "version": "3.8.10"
  },
  "orig_nbformat": 4,
  "vscode": {
   "interpreter": {
    "hash": "916dbcbb3f70747c44a77c7bcd40155683ae19c65e1c03b4aa3499c5328201f1"
   }
  }
 },
 "nbformat": 4,
 "nbformat_minor": 2
}
