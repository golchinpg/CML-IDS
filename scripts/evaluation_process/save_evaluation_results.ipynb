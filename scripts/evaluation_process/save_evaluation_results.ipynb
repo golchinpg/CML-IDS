{
 "cells": [
  {
   "cell_type": "code",
   "execution_count": 6,
   "metadata": {},
   "outputs": [],
   "source": [
    "import sys\n",
    "sys.path.append(\"..\")\n",
    "\n",
    "from generators.evaluation_parser import EvaluationPaser, FileMean\n",
    "\n",
    "import pandas as pd"
   ]
  },
  {
   "cell_type": "code",
   "execution_count": 5,
   "metadata": {},
   "outputs": [],
   "source": [
    "################################################ save evaluation in csv  ################################################\n",
    "evaluation_day_list = [\"tuesday\", \"wednesday\", \"thursday\", \"friday\"]\n",
    "evaluation_index_list = [3]\n",
    "gini_threshold_list = [0.1, 0.2, 0.3, 0.4]\n",
    "\n",
    "def save_evaluation(evaluation_index, gini_threshold):\n",
    "    timeout_expiration = 1800 # second\n",
    "    # evaluation_day_list = [\"friday\"]\n",
    "\n",
    "    # first columns dictionary in csv file\n",
    "    parameter_dict = {\n",
    "        \"evaluation_index\": evaluation_index,\n",
    "        \"gini_threshold\": gini_threshold,\n",
    "        \"timeout_expiration\": timeout_expiration\n",
    "    }\n",
    "\n",
    "    # initialize paths\n",
    "    evaluation_file_path_list = []\n",
    "    csv_save_path_list = []\n",
    "    for day in evaluation_day_list:\n",
    "        evaluation_file_path = f'../../evaluation/{day}/{day}_evaluation_index_{evaluation_index}/{day}_txt_gini_{gini_threshold}_{evaluation_index}.txt'\n",
    "        csv_save_path = f'../../evaluation/{day}/{day}_csv.csv'\n",
    "        evaluation_file_path_list.append(evaluation_file_path)\n",
    "        csv_save_path_list.append(csv_save_path)\n",
    "\n",
    "    # save evaluation in csv file for each dataset\n",
    "    evalation_parser = EvaluationPaser()\n",
    "    for i, day in enumerate(evaluation_day_list):\n",
    "        evalation_parser.parse_file(evaluation_file_path_list[i])\n",
    "        evalation_parser.save_to_csv(csv_path=csv_save_path_list[i], keep_header=False, dataset_day=day, parameter_dict=parameter_dict)\n",
    "\n",
    "for evaluation_index in evaluation_index_list:\n",
    "    for gini_threshold in gini_threshold_list:\n",
    "        save_evaluation(evaluation_index, gini_threshold)"
   ]
  },
  {
   "cell_type": "code",
   "execution_count": null,
   "metadata": {},
   "outputs": [],
   "source": [
    "################################################ save evaluation in csv (single file)  ################################################\n",
    "evaluation_day_list = [\"wednesday\", \"thursday\", \"friday\"]\n",
    "evaluation_index = 3\n",
    "gini_threshold = 0.4\n",
    "timeout_expiration = 1800 # second\n",
    "\n",
    "# first columns dictionary in csv file\n",
    "parameter_dict = {\n",
    "    \"evaluation_index\": evaluation_index,\n",
    "    \"gini_threshold\": gini_threshold,\n",
    "    \"timeout_expiration\": timeout_expiration\n",
    "}\n",
    "\n",
    "# initialize paths\n",
    "evaluation_file_path_list = []\n",
    "csv_save_path_list = []\n",
    "for day in evaluation_day_list:\n",
    "    evaluation_file_path = f'../../evaluation/{day}/{day}_evaluation_index_{evaluation_index}/{day}_txt_gini_{gini_threshold}_{evaluation_index}.txt'\n",
    "    csv_save_path = f'../../evaluation/{day}/{day}_csv.csv'\n",
    "    evaluation_file_path_list.append(evaluation_file_path)\n",
    "    csv_save_path_list.append(csv_save_path)\n",
    "\n",
    "# save evaluation in csv file for each dataset\n",
    "evalation_parser = EvaluationPaser()\n",
    "for i, day in enumerate(evaluation_day_list):\n",
    "    evalation_parser.parse_file(evaluation_file_path_list[i])\n",
    "    # evalation_parser.save_to_csv(csv_path=csv_save_path_list[i], keep_header=False, dataset_day=day, parameter_dict=parameter_dict)"
   ]
  },
  {
   "cell_type": "code",
   "execution_count": 3,
   "metadata": {},
   "outputs": [],
   "source": [
    "################################################ save evaluation of classification time  ################################################\n",
    "evaluation_day_list = [\"tuesday\", \"wednesday\", \"thursday\", \"friday\"]\n",
    "gini_threshold = 0.2\n",
    "timeout_expiration = 1800 # second\n",
    "\n",
    "# first columns dictionary in csv file\n",
    "parameter_dict = {\n",
    "    \"gini_threshold\": gini_threshold,\n",
    "    \"timeout_expiration\": timeout_expiration\n",
    "}\n",
    "\n",
    "# initialize paths\n",
    "evaluation_file_path_list = []\n",
    "csv_save_path_list = []\n",
    "for day in evaluation_day_list:\n",
    "    evaluation_file_path = f'../../evaluation/{day}/{day}_classification_time_gini_{gini_threshold}.txt'\n",
    "    csv_save_path = f'../../evaluation/{day}/{day}_classification_time_csv.csv'\n",
    "    evaluation_file_path_list.append(evaluation_file_path)\n",
    "    csv_save_path_list.append(csv_save_path)\n",
    "\n",
    "# save evaluation in csv file for each dataset\n",
    "evalation_parser = EvaluationPaser()\n",
    "for i, day in enumerate(evaluation_day_list):\n",
    "    evalation_parser.parse_file_time(evaluation_file_path_list[i])\n",
    "    evalation_parser.save_classification_time_to_csv(csv_path=csv_save_path_list[i], keep_header=True, dataset_day=day, parameter_dict=parameter_dict)"
   ]
  },
  {
   "cell_type": "code",
   "execution_count": 82,
   "metadata": {},
   "outputs": [],
   "source": [
    "################################################ convert to the final result ################################################\n",
    "evaluation_day_list = [\"tuesday\", \"wednesday\", \"thursday\", \"friday\"]\n",
    "\n",
    "# initialize paths\n",
    "evaluation_file_path_list = []\n",
    "final_save_path_list = []\n",
    "for day in evaluation_day_list:\n",
    "    evaluation_file_path = f'../../evaluation/{day}/{day}_csv.csv'\n",
    "    csv_save_path = f'../../evaluation/{day}/{day}_final_result.csv'\n",
    "    evaluation_file_path_list.append(evaluation_file_path)\n",
    "    final_save_path_list.append(csv_save_path)\n",
    "\n",
    "# convert to the final single file\n",
    "for i, day in enumerate(evaluation_day_list):\n",
    "    file_mean_gen = FileMean(evaluation_file_path_list[i])\n",
    "    file_mean_gen.compute_mean(final_save_path_list[i])\n"
   ]
  }
 ],
 "metadata": {
  "kernelspec": {
   "display_name": "Python 3",
   "language": "python",
   "name": "python3"
  },
  "language_info": {
   "codemirror_mode": {
    "name": "ipython",
    "version": 3
   },
   "file_extension": ".py",
   "mimetype": "text/x-python",
   "name": "python",
   "nbconvert_exporter": "python",
   "pygments_lexer": "ipython3",
   "version": "3.8.10"
  },
  "orig_nbformat": 4,
  "vscode": {
   "interpreter": {
    "hash": "916dbcbb3f70747c44a77c7bcd40155683ae19c65e1c03b4aa3499c5328201f1"
   }
  }
 },
 "nbformat": 4,
 "nbformat_minor": 2
}
