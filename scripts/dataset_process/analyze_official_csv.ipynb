{
 "cells": [
  {
   "cell_type": "code",
   "execution_count": 1,
   "metadata": {},
   "outputs": [],
   "source": [
    "import pandas as pd\n",
    "import numpy as np\n",
    "import matplotlib.pyplot as plt\n",
    "from scapy.all import *\n"
   ]
  },
  {
   "cell_type": "code",
   "execution_count": 2,
   "metadata": {},
   "outputs": [
    {
     "name": "stderr",
     "output_type": "stream",
     "text": [
      "/tmp/ipykernel_146566/3687243980.py:11: DtypeWarning: Columns (0,1,3,6,84) have mixed types. Specify dtype option on import or set low_memory=False.\n",
      "  df_thu_morning = pd.read_csv(thu_morning_path, encoding='latin1')\n"
     ]
    },
    {
     "name": "stdout",
     "output_type": "stream",
     "text": [
      "Tuesday total: 445909\n",
      "Wednesday total: 692703\n",
      "Thursday morning total: 458968\n",
      "Thursday afternoon total: 288602\n",
      "Friday morning total: 191033\n",
      "Friday afternoon ddos total: 225745\n",
      "Friday afternoon port scan total: 286467\n"
     ]
    }
   ],
   "source": [
    "tue_path = \"../../../datasets/official_labeled_flows/TrafficLabelling /Tuesday-WorkingHours.pcap_ISCX.csv\"\n",
    "wed_path = \"../../../datasets/official_labeled_flows/TrafficLabelling /Wednesday-workingHours.pcap_ISCX.csv\"\n",
    "thu_morning_path = \"../../../datasets/official_labeled_flows/TrafficLabelling /Thursday-WorkingHours-Morning-WebAttacks.pcap_ISCX.csv\"\n",
    "thu_afternoon_path = \"../../../datasets/official_labeled_flows/TrafficLabelling /Thursday-WorkingHours-Afternoon-Infilteration.pcap_ISCX.csv\"\n",
    "fri_morning_path = \"../../../datasets/official_labeled_flows/TrafficLabelling /Friday-WorkingHours-Morning.pcap_ISCX.csv\"\n",
    "fri_afternoon_ddos_path = \"../../../datasets/official_labeled_flows/TrafficLabelling /Friday-WorkingHours-Afternoon-DDos.pcap_ISCX.csv\"\n",
    "fri_afternoon_portscan_path = \"../../../datasets/official_labeled_flows/TrafficLabelling /Friday-WorkingHours-Afternoon-PortScan.pcap_ISCX.csv\"\n",
    "\n",
    "df_tue = pd.read_csv(tue_path)\n",
    "df_wed = pd.read_csv(wed_path)\n",
    "df_thu_morning = pd.read_csv(thu_morning_path, encoding='latin1')\n",
    "df_thu_afternoon = pd.read_csv(thu_afternoon_path, encoding='latin1')\n",
    "df_fri_morning = pd.read_csv(fri_morning_path, encoding='latin1')\n",
    "df_fri_afternoon_ddos = pd.read_csv(fri_afternoon_ddos_path, encoding='latin1')\n",
    "df_fri_afternoon_portscan = pd.read_csv(fri_afternoon_portscan_path, encoding='latin1')\n",
    "\n",
    "print(f\"Tuesday total: {len(df_tue)}\")\n",
    "print(f\"Wednesday total: {len(df_wed)}\")\n",
    "print(f\"Thursday morning total: {len(df_thu_morning)}\")\n",
    "print(f\"Thursday afternoon total: {len(df_thu_afternoon)}\")\n",
    "print(f\"Friday morning total: {len(df_fri_morning)}\")\n",
    "print(f\"Friday afternoon ddos total: {len(df_fri_afternoon_ddos)}\")\n",
    "print(f\"Friday afternoon port scan total: {len(df_fri_afternoon_portscan)}\")"
   ]
  },
  {
   "cell_type": "code",
   "execution_count": 3,
   "metadata": {},
   "outputs": [
    {
     "name": "stdout",
     "output_type": "stream",
     "text": [
      "Tuesday attack: 13835\n",
      "Wednesday attack: 252672\n",
      "Thursday morning attack: 290782\n",
      "Thursday afternoon attack: 36\n",
      "Friday morning attack: 1966\n",
      "Friday afternoon ddos attack: 128027\n",
      "Friday afternoon port scan attack: 158930\n"
     ]
    }
   ],
   "source": [
    "df_tue_attack = df_tue[df_tue[\" Label\"] != \"BENIGN\"]\n",
    "df_wed_attack = df_wed[df_wed[\" Label\"] != \"BENIGN\"]\n",
    "df_thu_morning_attack = df_thu_morning[df_thu_morning[\" Label\"] != \"BENIGN\"]\n",
    "df_thu_afternoon_attack = df_thu_afternoon[df_thu_afternoon[\" Label\"] != \"BENIGN\"]\n",
    "df_fri_morning_attack = df_fri_morning[df_fri_morning[\" Label\"] != \"BENIGN\"]\n",
    "df_fri_afternoon_ddos_attack = df_fri_afternoon_ddos[df_fri_afternoon_ddos[\" Label\"] != \"BENIGN\"]\n",
    "df_fri_afternoon_portscan_attack = df_fri_afternoon_portscan[df_fri_afternoon_portscan[\" Label\"] != \"BENIGN\"]\n",
    "\n",
    "print(f\"Tuesday attack: {len(df_tue_attack)}\")\n",
    "print(f\"Wednesday attack: {len(df_wed_attack)}\")\n",
    "print(f\"Thursday morning attack: {len(df_thu_morning_attack)}\")\n",
    "print(f\"Thursday afternoon attack: {len(df_thu_afternoon_attack)}\")\n",
    "print(f\"Friday morning attack: {len(df_fri_morning_attack)}\")\n",
    "print(f\"Friday afternoon ddos attack: {len(df_fri_afternoon_ddos_attack)}\")\n",
    "print(f\"Friday afternoon port scan attack: {len(df_fri_afternoon_portscan_attack)}\")"
   ]
  },
  {
   "cell_type": "code",
   "execution_count": 11,
   "metadata": {},
   "outputs": [],
   "source": [
    "df_tue_src_ip = df_tue[df_tue[\" Source IP\"] == \"172.16.0.1\"]\n",
    "df_tue_dst_ip = df_tue[df_tue[\" Destination IP\"] == \"172.16.0.1\"]\n",
    "\n",
    "df_tue_src_ip_attack = df_tue_src_ip[df_tue_src_ip[\" Label\"] != \"BENIGN\"]\n",
    "df_tue_dst_ip_attack = df_tue_dst_ip[df_tue_dst_ip[\" Label\"] != \"BENIGN\"]"
   ]
  },
  {
   "cell_type": "code",
   "execution_count": 12,
   "metadata": {},
   "outputs": [
    {
     "name": "stdout",
     "output_type": "stream",
     "text": [
      "14031\n",
      "2015\n",
      "13835\n",
      "0\n"
     ]
    }
   ],
   "source": [
    "print(len(df_tue_src_ip))\n",
    "print(len(df_tue_dst_ip))\n",
    "\n",
    "print(len(df_tue_src_ip_attack))\n",
    "print(len(df_tue_dst_ip_attack))\n"
   ]
  },
  {
   "cell_type": "code",
   "execution_count": 108,
   "metadata": {},
   "outputs": [],
   "source": [
    "df_tue_attack_ip_pair = df_tue_attack[df_tue_attack[[\" Source IP\", \" Destination IP\"]].duplicated(keep=\"first\").map({True: False, False: True})]\n",
    "df_wed_attack_ip_pair = df_wed_attack[df_wed_attack[[\" Source IP\", \" Destination IP\"]].duplicated(keep=\"first\").map({True: False, False: True})]\n",
    "df_thu_morning_attack_ip_pair = df_thu_morning_attack[df_thu_morning_attack[\" Source IP\"].duplicated(keep=\"first\").map({True: False, False: True})]\n",
    "df_thu_afternoon_attack_ip_pair = df_thu_afternoon_attack[df_thu_afternoon_attack[[\" Source IP\", \" Destination IP\"]].duplicated(keep=\"first\").map({True: False, False: True})]\n",
    "df_fri_morning_attack_ip_pair = df_fri_morning_attack[df_fri_morning_attack[[\" Source IP\", \" Destination IP\"]].duplicated(keep=\"first\").map({True: False, False: True})]\n",
    "df_fri_afternoon_ddos_attack_ip_pair = df_fri_afternoon_ddos_attack[df_fri_afternoon_ddos_attack[[\" Source IP\", \" Destination IP\"]].duplicated(keep=\"first\").map({True: False, False: True})]\n",
    "df_fri_afternoon_portscan_attack_ip_pair = df_fri_afternoon_portscan_attack[df_fri_afternoon_portscan_attack[[\" Source IP\", \" Destination IP\"]].duplicated(keep=\"first\").map({True: False, False: True})]"
   ]
  },
  {
   "cell_type": "code",
   "execution_count": 109,
   "metadata": {},
   "outputs": [],
   "source": [
    "df_tue_attack_ip_pair_extracted = df_tue_attack_ip_pair[[\" Source IP\", \" Destination IP\"]]\n",
    "df_wed_attack_ip_pair_extracted = df_wed_attack_ip_pair[[\" Source IP\", \" Destination IP\"]]\n",
    "df_thu_morning_attack_ip_pair_extracted = df_thu_morning_attack_ip_pair[[\" Source IP\", \" Destination IP\"]]\n",
    "df_thu_afternoon_attack_ip_pair_extracted = df_thu_afternoon_attack_ip_pair[[\" Source IP\", \" Destination IP\"]]\n",
    "df_fri_morning_attack_ip_pair_extracted = df_fri_morning_attack_ip_pair[[\" Source IP\", \" Destination IP\"]]\n",
    "df_fri_afternoon_ddos_attack_ip_pair_extracted = df_fri_afternoon_ddos_attack_ip_pair[[\" Source IP\", \" Destination IP\"]]\n",
    "df_fri_afternoon_portscan_attack_ip_pair_extracted = df_fri_afternoon_portscan_attack_ip_pair[[\" Source IP\", \" Destination IP\"]]"
   ]
  },
  {
   "cell_type": "code",
   "execution_count": 114,
   "metadata": {},
   "outputs": [
    {
     "name": "stdout",
     "output_type": "stream",
     "text": [
      "------------------------------- Tuesday -------------------------------\n",
      "        Source IP  Destination IP\n",
      "11347  172.16.0.1   192.168.10.50\n",
      "------------------------------- Wednesday -------------------------------\n",
      "         Source IP  Destination IP\n",
      "6558    172.16.0.1   192.168.10.50\n",
      "597130  172.16.0.1   192.168.10.51\n",
      "------------------------------- Thursday -------------------------------\n",
      "         Source IP  Destination IP\n",
      "12637   172.16.0.1   192.168.10.50\n",
      "170366         NaN             NaN\n",
      "          Source IP  Destination IP\n",
      "66383  192.168.10.8  205.174.165.73\n",
      "------------------------------- Friday -------------------------------\n",
      "             Source IP  Destination IP\n",
      "24072    192.168.10.12      52.6.13.28\n",
      "56376     192.168.10.9  205.174.165.73\n",
      "56401   205.174.165.73    192.168.10.9\n",
      "60630    192.168.10.15  205.174.165.73\n",
      "60634   205.174.165.73   192.168.10.15\n",
      "84957    192.168.10.14  205.174.165.73\n",
      "84997   205.174.165.73   192.168.10.14\n",
      "93250     192.168.10.5  205.174.165.73\n",
      "93270   205.174.165.73    192.168.10.5\n",
      "104352    192.168.10.8  205.174.165.73\n",
      "104365  205.174.165.73    192.168.10.8\n",
      "140389   192.168.10.17    52.7.235.158\n",
      "            Source IP  Destination IP\n",
      "18883      172.16.0.1   192.168.10.50\n",
      "110943  192.168.10.50      172.16.0.1\n",
      "       Source IP  Destination IP\n",
      "1463  172.16.0.1   192.168.10.50\n"
     ]
    }
   ],
   "source": [
    "print(\"------------------------------- Tuesday -------------------------------\")\n",
    "print(df_tue_attack_ip_pair_extracted)\n",
    "\n",
    "print(\"------------------------------- Wednesday -------------------------------\")\n",
    "print(df_wed_attack_ip_pair_extracted)\n",
    "\n",
    "print(\"------------------------------- Thursday -------------------------------\")\n",
    "print(df_thu_morning_attack_ip_pair_extracted)\n",
    "print(df_thu_afternoon_attack_ip_pair_extracted)\n",
    "\n",
    "print(\"------------------------------- Friday -------------------------------\")\n",
    "print(df_fri_morning_attack_ip_pair_extracted)\n",
    "print(df_fri_afternoon_ddos_attack_ip_pair_extracted)\n",
    "print(df_fri_afternoon_portscan_attack_ip_pair_extracted)"
   ]
  }
 ],
 "metadata": {
  "kernelspec": {
   "display_name": "Python 3",
   "language": "python",
   "name": "python3"
  },
  "language_info": {
   "codemirror_mode": {
    "name": "ipython",
    "version": 3
   },
   "file_extension": ".py",
   "mimetype": "text/x-python",
   "name": "python",
   "nbconvert_exporter": "python",
   "pygments_lexer": "ipython3",
   "version": "3.8.10 (default, Nov 14 2022, 12:59:47) \n[GCC 9.4.0]"
  },
  "orig_nbformat": 4,
  "vscode": {
   "interpreter": {
    "hash": "916dbcbb3f70747c44a77c7bcd40155683ae19c65e1c03b4aa3499c5328201f1"
   }
  }
 },
 "nbformat": 4,
 "nbformat_minor": 2
}
