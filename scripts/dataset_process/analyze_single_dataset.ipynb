{
 "cells": [
  {
   "cell_type": "code",
   "execution_count": 2,
   "metadata": {},
   "outputs": [],
   "source": [
    "import pandas as pd\n",
    "import numpy as np\n",
    "import matplotlib.pyplot as plt\n",
    "from scapy.all import *\n",
    "\n",
    "import sys\n",
    "sys.path.append(\"..\")\n",
    "from generators.random_forest_generator import RFGenerator\n"
   ]
  },
  {
   "cell_type": "code",
   "execution_count": 2,
   "metadata": {},
   "outputs": [
    {
     "name": "stdout",
     "output_type": "stream",
     "text": [
      "Start building Random Forest\n"
     ]
    }
   ],
   "source": [
    "rf_gen = RFGenerator()"
   ]
  },
  {
   "cell_type": "code",
   "execution_count": null,
   "metadata": {},
   "outputs": [],
   "source": [
    "####################################### aggregate .pcap into .csv #######################################\n",
    "\n",
    "flow_length = 8\n",
    "\n",
    "# dataset paths\n",
    "pcap_tuesday = \"../../../datasets/pcaps/Tuesday-WorkingHours.pcap\"\n",
    "pcap_wednesday = \"../../../datasets/pcaps/Wednesday-WorkingHours.pcap\"\n",
    "pcap_thursday = \"../../../datasets/pcaps/Thursday-WorkingHours.pcap\"\n",
    "pcap_friday = \"../../../datasets/pcaps/Friday-WorkingHours.pcap\"\n",
    "\n",
    "pcap_paths = [pcap_tuesday, pcap_wednesday, pcap_thursday, pcap_friday]\n",
    "\n",
    "# aggregate packets into flows\n",
    "for path in pcap_paths:\n",
    "    flow_save_path = path[: -4] + f\"_sliced_flow_{flow_length}.csv\"\n",
    "    flow_save_path = \"../../../datasets/\" + path[24: -5] +  f\"_sliced_flow_{flow_length}.csv\"\n",
    "    rf_gen.to_flow_sliced(path, flow_save_path, flow_length)"
   ]
  },
  {
   "cell_type": "code",
   "execution_count": null,
   "metadata": {},
   "outputs": [],
   "source": [
    "####################################### preprocess each single dataset (no sliced) #######################################\n",
    "import sys\n",
    "sys.path.append(\"..\")\n",
    "from generators.random_forest_generator import RFGenerator\n",
    "\n",
    "# sliced flow dataset pathes\n",
    "dataset_tues_no_slice_path = f\"../../../datasets/Tuesday-WorkingHours_no_slice.csv\"\n",
    "dataset_wed_no_slice_path = f\"../../../datasets/Wednesday-WorkingHours_no_slice.csv\"\n",
    "dataset_thur_no_slice_path = f\"../../../datasets/Thursday-WorkingHours_no_slice.csv\"\n",
    "dataset_fri_no_slice_path = f\"../../../datasets/Friday-WorkingHours_no_slice.csv\"\n",
    "\n",
    "# preprocessed save path\n",
    "dataset_tues_save_path = dataset_tues_no_slice_path[: -4] + \"_preprocessed.csv\"\n",
    "dataset_wed_save_path = dataset_wed_no_slice_path[: -4] + \"_preprocessed.csv\"\n",
    "dataset_thur_save_path = dataset_thur_no_slice_path[: -4] + \"_preprocessed.csv\"\n",
    "dataset_fri_save_path = dataset_fri_no_slice_path[: -4] + \"_preprocessed.csv\"\n",
    "\n",
    "rf_gen = RFGenerator()\n",
    "\n",
    "# eliminate NFlow core features\n",
    "features_to_eliminate = ['id',\n",
    "                         'expiration_id',\n",
    "                         'src_ip',\n",
    "                         'src_mac',\n",
    "                         'src_oui',\n",
    "                         'src_port',\n",
    "                         'dst_ip',\n",
    "                         'dst_mac',\n",
    "                         'dst_oui',\n",
    "                         'dst_port',\n",
    "                         'ip_version',\n",
    "                         'vlan_id',\n",
    "                         'tunnel_id',\n",
    "                         'bidirectional_first_seen_ms',\n",
    "                         'bidirectional_last_seen_ms',\n",
    "                         'src2dst_first_seen_ms',\n",
    "                         'src2dst_last_seen_ms',\n",
    "                         'dst2src_first_seen_ms',\n",
    "                         'dst2src_last_seen_ms',\n",
    "                         'bidirectional_stddev_ps',\n",
    "                         'src2dst_stddev_ps',\n",
    "                         'dst2src_stddev_ps',\n",
    "                         'bidirectional_stddev_piat_ms',\n",
    "                         'src2dst_stddev_piat_ms',\n",
    "                         'dst2src_stddev_piat_ms']\n",
    "\n",
    "\n",
    "# do not need to consider the different protocol feature column, because the relevant features should not contain the protocol features. \n",
    "# Except TCP and UDP, the other protocols are not parsed in P4\n",
    "\n",
    "# tuesday\n",
    "rf_gen.preprocess_single_file(csv_path=dataset_tues_no_slice_path,\n",
    "                              save_path=dataset_tues_save_path,\n",
    "                              day=\"tuesday\",\n",
    "                              drop_columns=features_to_eliminate)\n",
    "# wednesday\n",
    "rf_gen.preprocess_single_file(csv_path=dataset_wed_no_slice_path,\n",
    "                              save_path=dataset_wed_save_path,\n",
    "                              day=\"wednesday\",\n",
    "                              drop_columns=features_to_eliminate)\n",
    "# thursday\n",
    "rf_gen.preprocess_single_file(csv_path=dataset_thur_no_slice_path,\n",
    "                              save_path=dataset_thur_save_path,\n",
    "                              day=\"thursday\",\n",
    "                              drop_columns=features_to_eliminate)\n",
    "# friday\n",
    "rf_gen.preprocess_single_file(csv_path=dataset_fri_no_slice_path,\n",
    "                              save_path=dataset_fri_save_path,\n",
    "                              day=\"friday\",\n",
    "                              drop_columns=features_to_eliminate)\n",
    "                "
   ]
  },
  {
   "cell_type": "code",
   "execution_count": null,
   "metadata": {},
   "outputs": [],
   "source": [
    "####################################### preprocess each single dataset (sliced) #######################################\n",
    "flow_length = 8\n",
    "\n",
    "# sliced flow dataset pathes\n",
    "dataset_tues_sliced_path = f\"../../../datasets/Tuesday-WorkingHours_sliced_flow_{flow_length}.csv\"\n",
    "dataset_wed_sliced_path = f\"../../../datasets/Wednesday-WorkingHours_sliced_flow_{flow_length}.csv\"\n",
    "dataset_thur_sliced_path = f\"../../../datasets/Thursday-WorkingHours_sliced_flow_{flow_length}.csv\"\n",
    "dataset_fri_sliced_path = f\"../../../datasets/Friday-WorkingHours_sliced_flow_{flow_length}.csv\"\n",
    "\n",
    "# preprocessed save path\n",
    "dataset_tues_save_path = dataset_tues_sliced_path[: -4] + \"_preprocessed.csv\"\n",
    "dataset_wed_save_path = dataset_wed_sliced_path[: -4] + \"_preprocessed.csv\"\n",
    "dataset_thur_save_path = dataset_thur_sliced_path[: -4] + \"_preprocessed.csv\"\n",
    "dataset_fri_save_path = dataset_fri_sliced_path[: -4] + \"_preprocessed.csv\"\n",
    "\n",
    "# categorical features. \n",
    "categorical_features = ['protocol',   \n",
    "                        'splt_direction_1',\n",
    "                        'splt_direction_2',\n",
    "                        'splt_direction_3',\n",
    "                        'splt_direction_4',\n",
    "                        'splt_direction_5',\n",
    "                        'splt_direction_6',\n",
    "                        'splt_direction_7',\n",
    "                        'splt_direction_8']\n",
    "\n",
    "# eliminate NFlow core features\n",
    "features_to_eliminate = ['id',\n",
    "                         'expiration_id',\n",
    "                         'src_ip',\n",
    "                         'src_mac',\n",
    "                         'src_oui',\n",
    "                         'src_port',\n",
    "                         'dst_ip',\n",
    "                         'dst_mac',\n",
    "                         'dst_oui',\n",
    "                         'dst_port',\n",
    "                         'ip_version',\n",
    "                         'vlan_id',\n",
    "                         'tunnel_id',\n",
    "                         'bidirectional_first_seen_ms',\n",
    "                         'bidirectional_last_seen_ms',\n",
    "                         'src2dst_first_seen_ms',\n",
    "                         'src2dst_last_seen_ms',\n",
    "                         'dst2src_first_seen_ms',\n",
    "                         'dst2src_last_seen_ms',\n",
    "                         'bidirectional_stddev_ps',\n",
    "                         'src2dst_stddev_ps',\n",
    "                         'dst2src_stddev_ps',\n",
    "                         'bidirectional_stddev_piat_ms',\n",
    "                         'src2dst_stddev_piat_ms',\n",
    "                         'dst2src_stddev_piat_ms']\n",
    "\n",
    "# splt features (should be added with 1 to avoid -1)\n",
    "splt_features = ['splt_piat_ms_1',\n",
    "        \t     'splt_piat_ms_2',\n",
    "        \t     'splt_piat_ms_3',\n",
    "        \t     'splt_piat_ms_4',\n",
    "        \t     'splt_piat_ms_5',\n",
    "        \t     'splt_piat_ms_6',\n",
    "        \t     'splt_piat_ms_7',\n",
    "        \t     'splt_piat_ms_8',\n",
    "        \t     'splt_ps_1',\n",
    "        \t     'splt_ps_2',\n",
    "        \t     'splt_ps_3',\n",
    "        \t     'splt_ps_4',\n",
    "        \t     'splt_ps_5',\n",
    "        \t     'splt_ps_6',\n",
    "        \t     'splt_ps_7',\n",
    "        \t     'splt_ps_8',\n",
    "                 'splt_direction_1',\n",
    "                 'splt_direction_2',\n",
    "                 'splt_direction_3',\n",
    "                 'splt_direction_4',\n",
    "                 'splt_direction_5',\n",
    "                 'splt_direction_6',\n",
    "                 'splt_direction_7',\n",
    "                 'splt_direction_8']\n",
    "\n",
    "# do not need to consider the different protocol feature column, because the relevant features should not contain the protocol features. \n",
    "# Except TCP and UDP, the other protocols are not parsed in P4\n",
    "\n",
    "# tuesday\n",
    "rf_gen.preprocess_single_file(csv_path=dataset_tues_sliced_path,\n",
    "                              save_path=dataset_tues_save_path,\n",
    "                              day=\"tuesday\",\n",
    "                              drop_columns=features_to_eliminate,\n",
    "                              categorical_columns=categorical_features,\n",
    "                              splt_columns=splt_features)\n",
    "# wednesday\n",
    "rf_gen.preprocess_single_file(csv_path=dataset_wed_sliced_path,\n",
    "                              save_path=dataset_wed_save_path,\n",
    "                              day=\"wednesday\",\n",
    "                              drop_columns=features_to_eliminate,\n",
    "                              categorical_columns=categorical_features,\n",
    "                              splt_columns=splt_features)\n",
    "# thursday\n",
    "rf_gen.preprocess_single_file(csv_path=dataset_thur_sliced_path,\n",
    "                              save_path=dataset_thur_save_path,\n",
    "                              day=\"thursday\",\n",
    "                              drop_columns=features_to_eliminate,\n",
    "                              categorical_columns=categorical_features,\n",
    "                              splt_columns=splt_features)\n",
    "# friday\n",
    "rf_gen.preprocess_single_file(csv_path=dataset_fri_sliced_path,\n",
    "                              save_path=dataset_fri_save_path,\n",
    "                              day=\"friday\",\n",
    "                              drop_columns=features_to_eliminate,\n",
    "                              categorical_columns=categorical_features,\n",
    "                              splt_columns=splt_features)\n",
    "                "
   ]
  },
  {
   "cell_type": "code",
   "execution_count": null,
   "metadata": {},
   "outputs": [],
   "source": [
    "####################################### preprocess each single dataset (no sliced) keep 5 tuple #######################################\n",
    "import sys\n",
    "sys.path.append(\"..\")\n",
    "from generators.random_forest_generator import RFGenerator\n",
    "\n",
    "# sliced flow dataset pathes\n",
    "dataset_tues_no_slice_path = f\"../../../datasets/Tuesday-WorkingHours_no_slice.csv\"\n",
    "dataset_wed_no_slice_path = f\"../../../datasets/Wednesday-WorkingHours_no_slice.csv\"\n",
    "dataset_thur_no_slice_path = f\"../../../datasets/Thursday-WorkingHours_no_slice.csv\"\n",
    "dataset_fri_no_slice_path = f\"../../../datasets/Friday-WorkingHours_no_slice.csv\"\n",
    "\n",
    "# preprocessed save path\n",
    "dataset_tues_save_path = dataset_tues_no_slice_path[: -4] + \"_preprocessed_with_5tuple.csv\"\n",
    "dataset_wed_save_path = dataset_wed_no_slice_path[: -4] + \"_preprocessed_with_5tuple.csv\"\n",
    "dataset_thur_save_path = dataset_thur_no_slice_path[: -4] + \"_preprocessed_with_5tuple.csv\"\n",
    "dataset_fri_save_path = dataset_fri_no_slice_path[: -4] + \"_preprocessed_with_5tuple.csv\"\n",
    "\n",
    "rf_gen = RFGenerator()\n",
    "\n",
    "# do not need to consider the different protocol feature column, because the relevant features should not contain the protocol features. \n",
    "# Except TCP and UDP, the other protocols are not parsed in P4\n",
    "\n",
    "# tuesday\n",
    "rf_gen.preprocess_single_file(csv_path=dataset_tues_no_slice_path,\n",
    "                              save_path=dataset_tues_save_path,\n",
    "                              day=\"tuesday\")\n",
    "# wednesday\n",
    "rf_gen.preprocess_single_file(csv_path=dataset_wed_no_slice_path,\n",
    "                              save_path=dataset_wed_save_path,\n",
    "                              day=\"wednesday\")\n",
    "# thursday\n",
    "rf_gen.preprocess_single_file(csv_path=dataset_thur_no_slice_path,\n",
    "                              save_path=dataset_thur_save_path,\n",
    "                              day=\"thursday\")\n",
    "# friday\n",
    "rf_gen.preprocess_single_file(csv_path=dataset_fri_no_slice_path,\n",
    "                              save_path=dataset_fri_save_path,\n",
    "                              day=\"friday\")\n",
    "                "
   ]
  },
  {
   "cell_type": "code",
   "execution_count": 47,
   "metadata": {},
   "outputs": [],
   "source": [
    "####################################### check the number of attack flows (part 1)#######################################\n",
    "\n",
    "dataset_tue_save_path = \"../../../datasets/Tuesday-WorkingHours_no_slice_preprocessed_with_5tuple.csv\"\n",
    "dataset_wed_save_path = \"../../../datasets/Wednesday-WorkingHours_no_slice_preprocessed_with_5tuple.csv\"\n",
    "dataset_thu_save_path = \"../../../datasets/Thursday-WorkingHours_no_slice_preprocessed_with_5tuple.csv\"\n",
    "dataset_fri_save_path = \"../../../datasets/Friday-WorkingHours_no_slice_preprocessed_with_5tuple.csv\"\n",
    "\n",
    "df_tue = pd.read_csv(dataset_tue_save_path)\n",
    "df_wed = pd.read_csv(dataset_wed_save_path)\n",
    "df_thu = pd.read_csv(dataset_thu_save_path)\n",
    "df_fri = pd.read_csv(dataset_fri_save_path)\n"
   ]
  },
  {
   "cell_type": "code",
   "execution_count": 48,
   "metadata": {},
   "outputs": [
    {
     "data": {
      "text/plain": [
       "337293"
      ]
     },
     "execution_count": 48,
     "metadata": {},
     "output_type": "execute_result"
    }
   ],
   "source": [
    "len(df_wed)"
   ]
  },
  {
   "cell_type": "code",
   "execution_count": 46,
   "metadata": {},
   "outputs": [
    {
     "name": "stdout",
     "output_type": "stream",
     "text": [
      "--------------------- Tuesday ---------------------\n",
      "number of src flow: 6954\n",
      "number of dst flow: 236\n",
      "number of attack flow: 6954\n",
      "--------------------- Wednesday ---------------------\n",
      "number of src flow: 30378\n",
      "number of dst flow: 3095\n",
      "number of attack flow: 30378\n"
     ]
    }
   ],
   "source": [
    "####################################### check the number of attack flows (part 2)#######################################\n",
    "\n",
    "# number of flow entries with \"172.16.0.1\" source ip\n",
    "df_tue_src = df_tue[df_tue[\"src_ip\"] == \"172.16.0.1\"]\n",
    "# number of flow entries with \"172.16.0.1\" destination ip\n",
    "df_tue_dst = df_tue[df_tue[\"dst_ip\"] == \"172.16.0.1\"]\n",
    "df_tue_attack = df_tue[df_tue[\"Label\"] == 1]\n",
    "print(\"--------------------- Tuesday ---------------------\")\n",
    "print(f\"number of src flow: {len(df_tue_src)}\")\n",
    "print(f\"number of dst flow: {len(df_tue_dst)}\")\n",
    "print(f\"number of attack flow: {len(df_tue_attack)}\")\n",
    "\n",
    "df_wed_src = df_wed[df_wed[\"src_ip\"] == \"172.16.0.1\"]\n",
    "df_wed_dst = df_wed[df_wed[\"dst_ip\"] == \"172.16.0.1\"]\n",
    "df_wed_attack = df_wed[df_wed[\"Label\"] == 1]\n",
    "print(\"--------------------- Wednesday ---------------------\")\n",
    "print(f\"number of src flow: {len(df_wed_src)}\")\n",
    "print(f\"number of dst flow: {len(df_wed_dst)}\")\n",
    "print(f\"number of attack flow: {len(df_wed_attack)}\")\n",
    "\n",
    "\n",
    "# df_thu_src = df_thu[(df_tue[\"src_ip\"] == \"172.16.0.1\") | (df_tue[\"src_ip\"] == \"192.168.10.8\")]\n",
    "# df_thu_dst = df_thu[(df_tue[\"dst_ip\"] == \"172.16.0.1\") | (df_tue[\"dst_ip\"] == \"192.168.10.8\")]\n",
    "# df_thu_attack = df_thu[df_tue[\"Label\"] == 1]\n",
    "# print(\"--------------------- Thursday ---------------------\")\n",
    "# print(f\"number of src flow: {df_thu_src}\")\n",
    "# print(f\"number of dst flow: {df_thu_dst}\")\n",
    "# print(f\"number of attack flow: {df_thu_attack}\")\n",
    "\n",
    "\n",
    "# df_fri_src\n",
    "# df_fri_dst\n",
    "# df_fri_attack"
   ]
  },
  {
   "cell_type": "code",
   "execution_count": 3,
   "metadata": {},
   "outputs": [],
   "source": [
    "####################################### check the flow duration (sliced) (part 1) #######################################\n",
    "flow_length = 8\n",
    "\n",
    "# sliced flow dataset pathes\n",
    "dataset_tues_sliced_preprocessed_path = f\"../../../datasets/Tuesday-WorkingHours_sliced_flow_{flow_length}_preprocessed.csv\"\n",
    "dataset_wed_sliced_preprocessed_path = f\"../../../datasets/Wednesday-WorkingHours_sliced_flow_{flow_length}_preprocessed.csv\"\n",
    "dataset_thur_sliced_preprocessed_path = f\"../../../datasets/Thursday-WorkingHours_sliced_flow_{flow_length}_preprocessed.csv\"\n",
    "dataset_fri_sliced_preprocessed_path = f\"../../../datasets/Friday-WorkingHours_sliced_flow_{flow_length}_preprocessed.csv\"\n",
    "\n",
    "\n",
    "df_preprocessed_tues = pd.read_csv(dataset_tues_sliced_preprocessed_path)\n",
    "df_preprocessed_wed = pd.read_csv(dataset_wed_sliced_preprocessed_path)\n",
    "df_preprocessed_thur = pd.read_csv(dataset_thur_sliced_preprocessed_path)\n",
    "df_preprocessed_fri = pd.read_csv(dataset_fri_sliced_preprocessed_path)\n"
   ]
  },
  {
   "cell_type": "code",
   "execution_count": 6,
   "metadata": {},
   "outputs": [
    {
     "name": "stdout",
     "output_type": "stream",
     "text": [
      "314685000\n",
      "327020000\n",
      "309919000\n",
      "363033000\n",
      "2346144.6315700714\n",
      "3241544.7222444583\n",
      "1637773.8667692505\n",
      "1292591.413621342\n"
     ]
    }
   ],
   "source": [
    "####################################### check the flow duration (sliced) (part 2) #######################################\n",
    "max_tues = max(df_preprocessed_tues[\"bidirectional_duration_ms\"])\n",
    "max_wed = max(df_preprocessed_wed[\"bidirectional_duration_ms\"])\n",
    "max_thur = max(df_preprocessed_thur[\"bidirectional_duration_ms\"])\n",
    "max_fir = max(df_preprocessed_fri[\"bidirectional_duration_ms\"])\n",
    "\n",
    "mean_tues = df_preprocessed_tues[\"bidirectional_duration_ms\"].mean()\n",
    "mean_wed = df_preprocessed_wed[\"bidirectional_duration_ms\"].mean()\n",
    "mean_thur = df_preprocessed_thur[\"bidirectional_duration_ms\"].mean()\n",
    "mean_fir = df_preprocessed_fri[\"bidirectional_duration_ms\"].mean()\n",
    "\n",
    "print(max_tues)\n",
    "print(max_wed)\n",
    "print(max_thur)\n",
    "print(max_fir)\n",
    "\n",
    "print(mean_tues)\n",
    "print(mean_wed)\n",
    "print(mean_thur)\n",
    "print(mean_fir)\n",
    "\n"
   ]
  },
  {
   "cell_type": "code",
   "execution_count": 12,
   "metadata": {},
   "outputs": [],
   "source": [
    "# read no sliced dataset\n",
    "flow_preprocess_dataset_tues_no_sliced_path = \"../../../datasets/Tuesday-WorkingHours_no_slice_preprocessed.csv\"\n",
    "flow_preprocess_dataset_wed_no_sliced_path = \"../../../datasets/Wednesday-WorkingHours_no_slice_preprocessed.csv\"\n",
    "flow_preprocess_dataset_thur_no_sliced_path = \"../../../datasets/Thursday-WorkingHours_no_slice_preprocessed.csv\"\n",
    "flow_preprocess_dataset_fri_no_sliced_path = \"../../../datasets/Friday-WorkingHours_no_slice_preprocessed.csv\"\n",
    "\n",
    "df_preprocessed_tues = pd.read_csv(flow_preprocess_dataset_tues_no_sliced_path)\n",
    "df_preprocessed_wed = pd.read_csv(flow_preprocess_dataset_wed_no_sliced_path)\n",
    "df_preprocessed_thur = pd.read_csv(flow_preprocess_dataset_thur_no_sliced_path)\n",
    "df_preprocessed_fri = pd.read_csv(flow_preprocess_dataset_fri_no_sliced_path)\n",
    "\n",
    "# the range of number of packets in flows are considered\n",
    "indexes = np.arange(1, 16, 1)\n",
    "\n",
    "# generate columns of .csv file\n",
    "columns = []\n",
    "for i in indexes:\n",
    "    columns.append(f\"flow_benign_gte_{i}\")\n",
    "for i in indexes:\n",
    "    columns.append(f\"flow_attack_gte_{i}\")\n"
   ]
  },
  {
   "cell_type": "code",
   "execution_count": 15,
   "metadata": {},
   "outputs": [
    {
     "data": {
      "text/plain": [
       "'[flow_benign_gte_1,flow_benign_gte_2,flow_benign_gte_3,flow_benign_gte_4,flow_benign_gte_5,flow_benign_gte_6,flow_benign_gte_7,flow_benign_gte_8,flow_benign_gte_9,flow_benign_gte_10,flow_benign_gte_11,flow_benign_gte_12,flow_benign_gte_13,flow_benign_gte_14,flow_benign_gte_15,flow_attack_gte_1,flow_attack_gte_2,flow_attack_gte_3,flow_attack_gte_4,flow_attack_gte_5,flow_attack_gte_6,flow_attack_gte_7,flow_attack_gte_8,flow_attack_gte_9,flow_attack_gte_10,flow_attack_gte_11,flow_attack_gte_12,flow_attack_gte_13,flow_attack_gte_14,flow_attack_gte_15]'"
      ]
     },
     "execution_count": 15,
     "metadata": {},
     "output_type": "execute_result"
    }
   ],
   "source": [
    "str(columns).replace(\"'\", '').replace(' ', '')"
   ]
  },
  {
   "cell_type": "code",
   "execution_count": 16,
   "metadata": {},
   "outputs": [
    {
     "name": "stdout",
     "output_type": "stream",
     "text": [
      "[301395,301329,245490,244576,117681,117416,100965,99209,93411,92739,88803,86846,85212,82763,80651,6954,6954,6954,6954,6954,6954,6950,6947,6942,6940,6933,6933,6923,6923,6922]\n"
     ]
    },
    {
     "data": {
      "text/plain": [
       "[<matplotlib.lines.Line2D at 0x7fb3946b0670>]"
      ]
     },
     "execution_count": 16,
     "metadata": {},
     "output_type": "execute_result"
    },
    {
     "data": {
      "image/png": "[encoded data removed]",
      "text/plain": [
       "<Figure size 640x480 with 1 Axes>"
      ]
     },
     "metadata": {},
     "output_type": "display_data"
    }
   ],
   "source": [
    "####################################### get the number of benign and attack flows (Tuesday) #######################################\n",
    "benign_num_list_tues = []\n",
    "attack_num_list_tues = []\n",
    "\n",
    "for i in indexes:\n",
    "    df_larger_than_n = df_preprocessed_tues[df_preprocessed_tues[\"bidirectional_packets\"] >= i]\n",
    "    benign_num, attack_num = np.bincount(df_larger_than_n[\"Label\"])\n",
    "    benign_num_list_tues.append(benign_num)\n",
    "    attack_num_list_tues.append(attack_num)\n",
    "    \n",
    "# output string for csv file\n",
    "print(str(benign_num_list_tues + attack_num_list_tues).replace(\" \", ''))\n",
    "\n",
    "# plot the distribution\n",
    "plt.plot(indexes, benign_num_list_tues, label=\"benign flow\")\n",
    "plt.plot(indexes, attack_num_list_tues, label=\"attack flow\")\n"
   ]
  },
  {
   "cell_type": "code",
   "execution_count": 17,
   "metadata": {},
   "outputs": [
    {
     "name": "stdout",
     "output_type": "stream",
     "text": [
      "[306915,306845,251340,250852,118937,118775,102554,100434,94796,94210,90163,88228,86641,84218,81373,30378,30330,29906,28266,28265,28253,28088,24957,24942,24662,23862,22920,22326,21434,19849]\n"
     ]
    },
    {
     "data": {
      "text/plain": [
       "[<matplotlib.lines.Line2D at 0x7fb38ac643a0>]"
      ]
     },
     "execution_count": 17,
     "metadata": {},
     "output_type": "execute_result"
    },
    {
     "data": {
      "image/png": "[encoded data removed]",
      "text/plain": [
       "<Figure size 640x480 with 1 Axes>"
      ]
     },
     "metadata": {},
     "output_type": "display_data"
    }
   ],
   "source": [
    "####################################### get the number of benign and attack flows (Wednesday) #######################################\n",
    "benign_num_list_wed = []\n",
    "attack_num_list_wed = []\n",
    "\n",
    "for i in indexes:\n",
    "    df_larger_than_n = df_preprocessed_wed[df_preprocessed_wed[\"bidirectional_packets\"] >= i]\n",
    "    benign_num, attack_num = np.bincount(df_larger_than_n[\"Label\"])\n",
    "    benign_num_list_wed.append(benign_num)\n",
    "    attack_num_list_wed.append(attack_num)\n",
    "    \n",
    "# output string for csv file\n",
    "print(str(benign_num_list_wed + attack_num_list_wed).replace(\" \", ''))\n",
    "\n",
    "# plot the distribution\n",
    "plt.plot(indexes, benign_num_list_wed, label=\"benign flow\")\n",
    "plt.plot(indexes, attack_num_list_wed, label=\"attack flow\")"
   ]
  },
  {
   "cell_type": "code",
   "execution_count": 18,
   "metadata": {},
   "outputs": [
    {
     "name": "stdout",
     "output_type": "stream",
     "text": [
      "[252567,252487,200709,200430,99090,98864,81851,80299,76368,75825,71997,70681,69587,66775,64314,90567,90566,58550,58462,13009,13004,10627,10452,10023,9946,9372,9220,9064,8920,8482]\n"
     ]
    },
    {
     "data": {
      "text/plain": [
       "[<matplotlib.lines.Line2D at 0x7fb389e1ca00>]"
      ]
     },
     "execution_count": 18,
     "metadata": {},
     "output_type": "execute_result"
    },
    {
     "data": {
      "image/png": "[encoded data removed]",
      "text/plain": [
       "<Figure size 640x480 with 1 Axes>"
      ]
     },
     "metadata": {},
     "output_type": "display_data"
    }
   ],
   "source": [
    "####################################### get the number of benign and attack flows (Thursday) #######################################\n",
    "benign_num_list_thur = []\n",
    "attack_num_list_thur = []\n",
    "\n",
    "for i in indexes:\n",
    "    df_larger_than_n = df_preprocessed_thur[df_preprocessed_thur[\"bidirectional_packets\"] >= i]\n",
    "    benign_num, attack_num = np.bincount(df_larger_than_n[\"Label\"])\n",
    "    benign_num_list_thur.append(benign_num)\n",
    "    attack_num_list_thur.append(attack_num)\n",
    "    \n",
    "# output string for csv file\n",
    "print(str(benign_num_list_thur + attack_num_list_thur).replace(\" \", ''))\n",
    "\n",
    "# plot the distribution\n",
    "plt.plot(indexes, benign_num_list_thur, label=\"benign flow\")\n",
    "plt.plot(indexes, attack_num_list_thur, label=\"attack flow\")"
   ]
  },
  {
   "cell_type": "code",
   "execution_count": 19,
   "metadata": {},
   "outputs": [
    {
     "name": "stdout",
     "output_type": "stream",
     "text": [
      "[275210,275137,224827,224460,104041,103848,87078,85824,81347,80717,76594,74316,72824,70263,68051,225886,225489,67176,66532,65811,65810,64482,64479,64408,63774,63606,59813,53339,43217,34998]\n"
     ]
    },
    {
     "data": {
      "text/plain": [
       "[<matplotlib.lines.Line2D at 0x7fb38902c7f0>]"
      ]
     },
     "execution_count": 19,
     "metadata": {},
     "output_type": "execute_result"
    },
    {
     "data": {
      "image/png": "[encoded data removed]",
      "text/plain": [
       "<Figure size 640x480 with 1 Axes>"
      ]
     },
     "metadata": {},
     "output_type": "display_data"
    }
   ],
   "source": [
    "####################################### get the number of benign and attack flows (Friday) #######################################\n",
    "benign_num_list_fri = []\n",
    "attack_num_list_fri = []\n",
    "\n",
    "for i in indexes:\n",
    "    df_larger_than_n = df_preprocessed_fri[df_preprocessed_fri[\"bidirectional_packets\"] >= i]\n",
    "    benign_num, attack_num = np.bincount(df_larger_than_n[\"Label\"])\n",
    "    benign_num_list_fri.append(benign_num)\n",
    "    attack_num_list_fri.append(attack_num)\n",
    "    \n",
    "# output string for csv file\n",
    "print(str(benign_num_list_fri + attack_num_list_fri).replace(\" \", ''))\n",
    "\n",
    "# plot the distribution\n",
    "plt.plot(indexes, benign_num_list_fri, label=\"benign flow\")\n",
    "plt.plot(indexes, attack_num_list_fri, label=\"attack flow\")"
   ]
  },
  {
   "cell_type": "code",
   "execution_count": 19,
   "metadata": {},
   "outputs": [
    {
     "data": {
      "image/png": "[encoded data removed]",
      "text/plain": [
       "<Figure size 640x480 with 1 Axes>"
      ]
     },
     "metadata": {},
     "output_type": "display_data"
    }
   ],
   "source": [
    "plt.plot(indexes, attack_num_list_tues, label=\"Tuesday\")\n",
    "plt.plot(indexes, attack_num_list_wed, label=\"Wednesday\")\n",
    "plt.plot(indexes, attack_num_list_thur, label=\"Thursday\")\n",
    "plt.plot(indexes, attack_num_list_fri, label=\"Friday\")\n",
    "plt.legend(loc='upper right')\n",
    "plt.title(\"Illegitimate flows distribution based on the number of bidirectional packets\")\n",
    "plt.xlabel(\"number of bidirectional pacekts\")\n",
    "plt.ylabel(\"number of illegitimate flows\")\n",
    "plt.show()"
   ]
  },
  {
   "cell_type": "code",
   "execution_count": 22,
   "metadata": {},
   "outputs": [
    {
     "name": "stdout",
     "output_type": "stream",
     "text": [
      "max tues: 1797965000 microseconds\n",
      "max wed: 1799965000 microseconds\n",
      "max thur: 1799110000 microseconds\n",
      "max fir: 1799960000 microseconds\n",
      "MAX of four days: 1799965000 microseconds\n",
      "MAX of four days: 29.999416666666665 mins\n"
     ]
    }
   ],
   "source": [
    "max_tues = max(df_preprocessed_tues[\"bidirectional_duration_ms\"])\n",
    "max_wed = max(df_preprocessed_wed[\"bidirectional_duration_ms\"])\n",
    "max_thur = max(df_preprocessed_thur[\"bidirectional_duration_ms\"])\n",
    "max_fir = max(df_preprocessed_fri[\"bidirectional_duration_ms\"])\n",
    "max_flow_duration = max(max_tues, max_wed, max_thur, max_fir)\n",
    "\n",
    "print(f\"max tues: {max_tues} microseconds\")\n",
    "# TODO: * 1000 for the wednesday dataset during preprocessing\n",
    "print(f\"max wed: {max_wed} microseconds\")\n",
    "print(f\"max thur: {max_thur} microseconds\")\n",
    "print(f\"max fir: {max_fir} microseconds\")\n",
    "print(f\"MAX of four days: {max_flow_duration} microseconds\")\n",
    "print(f\"MAX of four days: {max_flow_duration / 1000000 / 60} mins\")\n"
   ]
  },
  {
   "cell_type": "code",
   "execution_count": 13,
   "metadata": {},
   "outputs": [
    {
     "name": "stdout",
     "output_type": "stream",
     "text": [
      "attack number: 6954\n",
      "attack TCP number: 6954\n",
      "attack UDP number: 0\n",
      "attack others number: 0\n"
     ]
    }
   ],
   "source": [
    "attack_df = df_preprocessed_tues[df_preprocessed_tues[\"Label\"] == 1]\n",
    "attack_num = len(attack_df)\n",
    "attack_tcp_df = attack_df[attack_df[\"protocol_6\"] == 1]\n",
    "attack_tcp_num = len(attack_tcp_df)\n",
    "attacks_udp_df = attack_df[attack_df[\"protocol_17\"] == 1]\n",
    "attack_udp_num = len(attacks_udp_df)\n",
    "print(f\"attack number: {attack_num}\")\n",
    "print(f\"attack TCP number: {attack_tcp_num}\")\n",
    "print(f\"attack UDP number: {attack_udp_num}\")\n",
    "print(f\"attack others number: {attack_num - attack_tcp_num - attack_udp_num}\")\n"
   ]
  },
  {
   "cell_type": "code",
   "execution_count": 14,
   "metadata": {},
   "outputs": [
    {
     "name": "stdout",
     "output_type": "stream",
     "text": [
      "attack number: 6954\n",
      "attack TCP number: 6954\n",
      "attack UDP number: 0\n",
      "attack others number: 0\n"
     ]
    }
   ],
   "source": [
    "attack_df = df_preprocessed_wed[df_preprocessed_wed[\"Label\"] == 1]\n",
    "attack_num = len(attack_df)\n",
    "attack_tcp_df = attack_df[attack_df[\"protocol_6\"] == 1]\n",
    "attack_tcp_num = len(attack_tcp_df)\n",
    "attacks_udp_df = attack_df[attack_df[\"protocol_17\"] == 1]\n",
    "attack_udp_num = len(attacks_udp_df)\n",
    "print(f\"attack number: {attack_num}\")\n",
    "print(f\"attack TCP number: {attack_tcp_num}\")\n",
    "print(f\"attack UDP number: {attack_udp_num}\")\n",
    "print(f\"attack others number: {attack_num - attack_tcp_num - attack_udp_num}\")\n"
   ]
  },
  {
   "cell_type": "code",
   "execution_count": 15,
   "metadata": {},
   "outputs": [
    {
     "name": "stdout",
     "output_type": "stream",
     "text": [
      "attack number: 90567\n",
      "attack TCP number: 75848\n",
      "attack UDP number: 14655\n",
      "attack others number: 64\n"
     ]
    }
   ],
   "source": [
    "attack_df = df_preprocessed_thur[df_preprocessed_thur[\"Label\"] == 1]\n",
    "attack_num = len(attack_df)\n",
    "attack_tcp_df = attack_df[attack_df[\"protocol_6\"] == 1]\n",
    "attack_tcp_num = len(attack_tcp_df)\n",
    "attacks_udp_df = attack_df[attack_df[\"protocol_17\"] == 1]\n",
    "attack_udp_num = len(attacks_udp_df)\n",
    "print(f\"attack number: {attack_num}\")\n",
    "print(f\"attack TCP number: {attack_tcp_num}\")\n",
    "print(f\"attack UDP number: {attack_udp_num}\")\n",
    "print(f\"attack others number: {attack_num - attack_tcp_num - attack_udp_num}\")\n"
   ]
  },
  {
   "cell_type": "code",
   "execution_count": 16,
   "metadata": {},
   "outputs": [
    {
     "name": "stdout",
     "output_type": "stream",
     "text": [
      "attack number: 225886\n",
      "attack TCP number: 225610\n",
      "attack UDP number: 268\n",
      "attack others number: 8\n",
      "\n"
     ]
    }
   ],
   "source": [
    "attack_df = df_preprocessed_fri[df_preprocessed_fri[\"Label\"] == 1]\n",
    "attack_num = len(attack_df)\n",
    "attack_tcp_df = attack_df[attack_df[\"protocol_6\"] == 1]\n",
    "attack_tcp_num = len(attack_tcp_df)\n",
    "attacks_udp_df = attack_df[attack_df[\"protocol_17\"] == 1]\n",
    "attack_udp_num = len(attacks_udp_df)\n",
    "print(f\"attack number: {attack_num}\")\n",
    "print(f\"attack TCP number: {attack_tcp_num}\")\n",
    "print(f\"attack UDP number: {attack_udp_num}\")\n",
    "print(f\"attack others number: {attack_num - attack_tcp_num - attack_udp_num}\")\n",
    "\n",
    "print()"
   ]
  },
  {
   "cell_type": "code",
   "execution_count": 6,
   "metadata": {},
   "outputs": [
    {
     "name": "stdout",
     "output_type": "stream",
     "text": [
      "Finished reading Tuesday attack pcap dataset.\n",
      "Tuesday total attack packet number: 281202\n"
     ]
    }
   ],
   "source": [
    "pcap_dataset_path = \"../../../datasets/pcaps/Tuesday-WorkingHours_attack.pcap\"\n",
    "attack_1_part_output_path = \"../../../datasets/pcaps/Tuesday-WorkingHours_attack_1_part.pcap\"\n",
    "attack_2_part_output_path = \"../../../datasets/pcaps/Tuesday-WorkingHours_attack_2_part.pcap\"\n",
    "\n",
    "pcap_dataset = rdpcap(pcap_dataset_path)\n",
    "pkt_num = len(pcap_dataset)\n",
    "print(\"Finished reading Tuesday attack pcap dataset.\")\n",
    "print(f\"Tuesday total attack packet number: {pkt_num}\")"
   ]
  },
  {
   "cell_type": "code",
   "execution_count": 18,
   "metadata": {},
   "outputs": [
    {
     "name": "stdout",
     "output_type": "stream",
     "text": [
      "maximum time interval: 13132.322919\n",
      "timestamp of the last packet in the first part attack: 1499175008.726697\n",
      "Tuesday first part attack packet number: 111618\n",
      "Tuesday second part attack packet number: 169584\n"
     ]
    }
   ],
   "source": [
    "# find the timestamp of the last packet in the fisrt part\n",
    "pre_time = pcap_dataset[0].time\n",
    "max_interval = 0\n",
    "last_timestamp_1_part = 0\n",
    "for pkt in pcap_dataset:\n",
    "    temp_interval = pkt.time - pre_time\n",
    "    if(temp_interval > max_interval):\n",
    "        max_interval = temp_interval\n",
    "        last_timestamp_1_part = pre_time\n",
    "    pre_time = pkt.time\n",
    "print(f\"maximum time interval: {max_interval}\")\n",
    "print(f\"timestamp of the last packet in the first part attack: {last_timestamp_1_part}\")\n",
    "\n",
    "# extract the two parts attack\n",
    "attack_1_part_list = []\n",
    "attack_2_part_list = []\n",
    "for pkt in pcap_dataset:\n",
    "    if (pkt.time > last_timestamp_1_part):\n",
    "        attack_2_part_list.append(pkt)\n",
    "    else:\n",
    "        attack_1_part_list.append(pkt)\n",
    "wrpcap(attack_1_part_output_path, attack_1_part_list)\n",
    "wrpcap(attack_2_part_output_path, attack_2_part_list)\n",
    "print(f\"Tuesday first part attack packet number: {len(attack_1_part_list)}\")\n",
    "print(f\"Tuesday second part attack packet number: {len(attack_2_part_list)}\")"
   ]
  }
 ],
 "metadata": {
  "kernelspec": {
   "display_name": "Python 3.8.10 64-bit",
   "language": "python",
   "name": "python3"
  },
  "language_info": {
   "codemirror_mode": {
    "name": "ipython",
    "version": 3
   },
   "file_extension": ".py",
   "mimetype": "text/x-python",
   "name": "python",
   "nbconvert_exporter": "python",
   "pygments_lexer": "ipython3",
   "version": "3.8.10"
  },
  "orig_nbformat": 4,
  "vscode": {
   "interpreter": {
    "hash": "916dbcbb3f70747c44a77c7bcd40155683ae19c65e1c03b4aa3499c5328201f1"
   }
  }
 },
 "nbformat": 4,
 "nbformat_minor": 2
}
