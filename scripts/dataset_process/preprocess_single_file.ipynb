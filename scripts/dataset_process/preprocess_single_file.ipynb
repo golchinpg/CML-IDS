{
 "cells": [
  {
   "cell_type": "code",
   "execution_count": 30,
   "metadata": {},
   "outputs": [
    {
     "name": "stdout",
     "output_type": "stream",
     "text": [
      "Start building Random Forest\n"
     ]
    }
   ],
   "source": [
    "import sys\n",
    "sys.path.append(\"..\")\n",
    "\n",
    "from generators.random_forest_generator import RFGenerator\n",
    "from generators.p4_code_generator import P4CodeGenerator\n",
    "\n",
    "from matplotlib import pyplot as plt\n",
    "import pandas as pd\n",
    "import numpy as np\n",
    "import pickle\n",
    "import os, glob\n",
    "\n",
    "from sklearn.model_selection import train_test_split\n",
    "from sklearn.model_selection import cross_val_score\n",
    "from sklearn.model_selection import GridSearchCV\n",
    "from sklearn.preprocessing import minmax_scale\n",
    "from sklearn.utils import shuffle\n",
    "from sklearn.feature_selection import mutual_info_classif\n",
    "from sklearn.feature_selection import chi2\n",
    "from sklearn.feature_selection import f_classif\n",
    "from sklearn.ensemble import ExtraTreesClassifier\n",
    "from sklearn.ensemble import RandomForestClassifier\n",
    "from sklearn.metrics import classification_report\n",
    "from sklearn.metrics import plot_confusion_matrix\n",
    "from sklearn.inspection import permutation_importance\n",
    "from sklearn.tree import plot_tree\n",
    "from sklearn.tree import _tree\n",
    "\n",
    "# parameter setting\n",
    "flow_length = 7\n",
    "relevant_features_num = 20\n",
    "\n",
    "dataset_tues_sliced_path = f\"../../../datasets/Tuesday-WorkingHours_sliced_flow_{flow_length}_preprocessed.csv\"\n",
    "feature_scores_balanced_equal_path = f\"../../outputs/feature_importance/balanced/balanced_equal_{flow_length}/feature_scores_balanced_equal_{flow_length}.csv\"\n",
    "p4_code_single_file_path = f\"../../outputs/p4_code/single_file/\"\n",
    "\n",
    "rf_gen = RFGenerator()"
   ]
  },
  {
   "cell_type": "code",
   "execution_count": 31,
   "metadata": {},
   "outputs": [
    {
     "name": "stdout",
     "output_type": "stream",
     "text": [
      "original size: 308349\n",
      "7 pkts size: 107915\n",
      "attack num: 6950\n",
      "balanced size: 13900\n"
     ]
    }
   ],
   "source": [
    "# get the relevant features\n",
    "feature_scores_df = pd.read_csv(feature_scores_balanced_equal_path, index_col=0)\n",
    "relevant_features = feature_scores_df.iloc[:relevant_features_num, :]\n",
    "\n",
    "# read the preprocessed data\n",
    "df = pd.read_csv(dataset_tues_sliced_path)\n",
    "\n",
    "print(f\"original size: {len(df)}\")\n",
    "\n",
    "# extract flows with 7 bidirectional pacekts\n",
    "df = df[df[\"bidirectional_packets\"] == 7]\n",
    "print(f\"7 pkts size: {len(df)}\")\n",
    "\n",
    "# get the benign and attack dataset\n",
    "df_benign = df[df[\"Label\"] == 0]\n",
    "df_attack = df[df[\"Label\"] == 1]\n",
    "# the number of attack flows is less than the number of benign flows without duplicates\n",
    "attack_num = len(df_attack)\n",
    "# cut the replicated flow entries for benign\n",
    "df_benign_no_dup = df_benign[df_benign.duplicated(\n",
    "    keep='first').map({True: False, False: True})]\n",
    "# set drop=True to remove the orignal index after sampling\n",
    "df_benign_no_dup = df_benign_no_dup.sample(\n",
    "    attack_num).reset_index(drop=True)\n",
    "# concatenate df_benign_no_dup and df_attack and shuffle them\n",
    "df = pd.concat([df_benign_no_dup, df_attack])\n",
    "df = shuffle(df)\n",
    "\n",
    "print(f\"attack num: {attack_num}\")\n",
    "print(f\"balanced size: {len(df)}\")\n",
    "\n",
    "# save data of the relevant features\n",
    "relevant_features_index = relevant_features.index.tolist()\n",
    "df = df[relevant_features_index + [\"Label\"]]\n",
    "df = shuffle(df)"
   ]
  },
  {
   "cell_type": "code",
   "execution_count": 15,
   "metadata": {},
   "outputs": [
    {
     "data": {
      "text/plain": [
       "['splt_piat_ms_2',\n",
       " 'bidirectional_mean_ps',\n",
       " 'dst2src_mean_ps',\n",
       " 'dst2src_max_ps',\n",
       " 'bidirectional_max_ps',\n",
       " 'dst2src_bytes',\n",
       " 'bidirectional_bytes',\n",
       " 'splt_piat_ms_5',\n",
       " 'splt_ps_4',\n",
       " 'src2dst_mean_ps',\n",
       " 'src2dst_bytes',\n",
       " 'splt_ps_6',\n",
       " 'splt_ps_7',\n",
       " 'src2dst_max_ps',\n",
       " 'src2dst_duration_ms',\n",
       " 'src2dst_mean_piat_ms',\n",
       " 'splt_piat_ms_6',\n",
       " 'src2dst_max_piat_ms',\n",
       " 'splt_piat_ms_3',\n",
       " 'bidirectional_max_piat_ms']"
      ]
     },
     "execution_count": 15,
     "metadata": {},
     "output_type": "execute_result"
    }
   ],
   "source": [
    "relevant_features_index"
   ]
  },
  {
   "cell_type": "code",
   "execution_count": 32,
   "metadata": {},
   "outputs": [
    {
     "name": "stdout",
     "output_type": "stream",
     "text": [
      "X_train shape: (9730, 20)\n",
      "y_train shape: (9730,)\n",
      "X_test shape: (4170, 20)\n",
      "y_test shape: (4170,)\n"
     ]
    }
   ],
   "source": [
    "X_train, X_test, y_train, y_test = train_test_split(df.iloc[:, :-1],\n",
    "                                                    df.iloc[:, -1],\n",
    "                                                    test_size=0.3,\n",
    "                                                    random_state=42)\n",
    "print(f\"X_train shape: {X_train.shape}\")\n",
    "print(f\"y_train shape: {y_train.shape}\")\n",
    "print(f\"X_test shape: {X_test.shape}\")\n",
    "print(f\"y_test shape: {y_test.shape}\")"
   ]
  },
  {
   "cell_type": "code",
   "execution_count": 33,
   "metadata": {},
   "outputs": [
    {
     "name": "stdout",
     "output_type": "stream",
     "text": [
      "              precision    recall  f1-score   support\n",
      "\n",
      "           0       1.00      1.00      1.00      2061\n",
      "           1       1.00      1.00      1.00      2109\n",
      "\n",
      "    accuracy                           1.00      4170\n",
      "   macro avg       1.00      1.00      1.00      4170\n",
      "weighted avg       1.00      1.00      1.00      4170\n",
      "\n"
     ]
    },
    {
     "name": "stderr",
     "output_type": "stream",
     "text": [
      "/usr/local/lib/python3.8/dist-packages/sklearn/utils/deprecation.py:87: FutureWarning: Function plot_confusion_matrix is deprecated; Function `plot_confusion_matrix` is deprecated in 1.0 and will be removed in 1.2. Use one of the class methods: ConfusionMatrixDisplay.from_predictions or ConfusionMatrixDisplay.from_estimator.\n",
      "  warnings.warn(msg, category=FutureWarning)\n"
     ]
    },
    {
     "data": {
      "text/plain": [
       "<sklearn.metrics._plot.confusion_matrix.ConfusionMatrixDisplay at 0x7fbada1443a0>"
      ]
     },
     "execution_count": 33,
     "metadata": {},
     "output_type": "execute_result"
    },
    {
     "data": {
      "image/png": "[encoded data removed]",
      "text/plain": [
       "<Figure size 640x480 with 2 Axes>"
      ]
     },
     "metadata": {},
     "output_type": "display_data"
    }
   ],
   "source": [
    "# train the rf estimater (best parameters: 3 trees, 5 maximum depth)\n",
    "n_estimators = 3\n",
    "max_depth = 5\n",
    "\n",
    "rf = RandomForestClassifier(n_estimators=n_estimators, max_depth=max_depth, n_jobs=-1)\n",
    "\n",
    "rf = rf.fit(X_train, y_train)\n",
    "\n",
    "\n",
    "# show the evaluation\n",
    "y_predict = rf.predict(X_test)\n",
    "print(classification_report(y_test, y_predict))\n",
    "plot_confusion_matrix(rf, X_test, y_test, display_labels=[\"Benign\", \"Attack\"])"
   ]
  },
  {
   "cell_type": "code",
   "execution_count": 34,
   "metadata": {},
   "outputs": [
    {
     "name": "stdout",
     "output_type": "stream",
     "text": [
      "P4 code generator\n",
      "Generated P4 rules.\n"
     ]
    }
   ],
   "source": [
    "# generate P4 code\n",
    "\n",
    "feature_compatible_serialiazation_path = \"../../outputs/serialization/feature_compatible_serialized.pkl\"\n",
    "feature_list_path = \"../../dataset/features_with_id.csv\"\n",
    "\n",
    "# get the compatible features from pkl\n",
    "\n",
    "with open(feature_compatible_serialiazation_path, \"rb\") as f:\n",
    "    features_compatible = pickle.load(f)\n",
    "\n",
    "p4_gen = P4CodeGenerator(rf_estimator=rf, \n",
    "                         full_features=features_compatible, \n",
    "                         relevant_features=relevant_features_index, \n",
    "                         save_path=p4_code_single_file_path, \n",
    "                         features_path=feature_list_path)\n",
    "    \n",
    "p4_gen.generate_p4_rules(packets_count=7)\n",
    "# p4_gen.generate_bitstring_to_struct_action()\n",
    "# p4_gen.generate_compare_feature_action()\n",
    "# p4_gen.generate_mathch_action_tables()\n",
    "# p4_gen.generate_classfication_logic()"
   ]
  },
  {
   "cell_type": "code",
   "execution_count": 35,
   "metadata": {},
   "outputs": [
    {
     "name": "stderr",
     "output_type": "stream",
     "text": [
      "/usr/local/lib/python3.8/dist-packages/sklearn/utils/deprecation.py:87: FutureWarning: Function plot_confusion_matrix is deprecated; Function `plot_confusion_matrix` is deprecated in 1.0 and will be removed in 1.2. Use one of the class methods: ConfusionMatrixDisplay.from_predictions or ConfusionMatrixDisplay.from_estimator.\n",
      "  warnings.warn(msg, category=FutureWarning)\n"
     ]
    },
    {
     "data": {
      "text/plain": [
       "<sklearn.metrics._plot.confusion_matrix.ConfusionMatrixDisplay at 0x7fbadaaf9ee0>"
      ]
     },
     "execution_count": 35,
     "metadata": {},
     "output_type": "execute_result"
    },
    {
     "data": {
      "image/png": "[encoded data removed]",
      "text/plain": [
       "<Figure size 640x480 with 2 Axes>"
      ]
     },
     "metadata": {},
     "output_type": "display_data"
    }
   ],
   "source": [
    "X = df.iloc[:, :-1]\n",
    "y = df.iloc[:, -1]\n",
    "\n",
    "plot_confusion_matrix(rf, X, y, display_labels=[\"Benign\", \"Attack\"])"
   ]
  }
 ],
 "metadata": {
  "kernelspec": {
   "display_name": "Python 3",
   "language": "python",
   "name": "python3"
  },
  "language_info": {
   "codemirror_mode": {
    "name": "ipython",
    "version": 3
   },
   "file_extension": ".py",
   "mimetype": "text/x-python",
   "name": "python",
   "nbconvert_exporter": "python",
   "pygments_lexer": "ipython3",
   "version": "3.8.10"
  },
  "orig_nbformat": 4,
  "vscode": {
   "interpreter": {
    "hash": "916dbcbb3f70747c44a77c7bcd40155683ae19c65e1c03b4aa3499c5328201f1"
   }
  }
 },
 "nbformat": 4,
 "nbformat_minor": 2
}
